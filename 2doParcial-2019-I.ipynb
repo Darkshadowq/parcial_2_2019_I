{
 "cells": [
  {
   "cell_type": "markdown",
   "metadata": {},
   "source": [
    "# Segundo Parcial (2019-I)\n",
    "* Para la solución del parcial considere las siguientes funciones y métodos:"
   ]
  },
  {
   "cell_type": "code",
   "execution_count": null,
   "metadata": {},
   "outputs": [],
   "source": [
    "import math as m\n",
    "import numpy as np\n",
    "import pandas as pd\n",
    "import seaborn as sns\n",
    "import matplotlib.pyplot as plt\n",
    "%matplotlib inline\n",
    "\n",
    "def LagrangePol(datos):\n",
    "    # la funcion LagrangePol crea un objeto que evalua un polinomio\n",
    "    # en un cierto valor de x\n",
    "    def L(k, x):  # pol $L_k(x)=\\prod\\limits_{i \\neq k}\\frac{x-x_i}{x_k-x_i}$\n",
    "        out = 1.0\n",
    "        for i, p in enumerate(datos):\n",
    "            if i != k:\n",
    "                out *= (x-p[0])/(datos[k][0]-p[0])\n",
    "        return out\n",
    "\n",
    "    def P(x):  # polinomio $P(x)=\\sum\\limits_{k}f(x_k)L_k(x)$\n",
    "        lag = 0.0\n",
    "        for k, p in enumerate(datos):\n",
    "            lag += p[1]*L(k, x)\n",
    "        return lag\n",
    "\n",
    "    return P\n",
    "\n",
    "def NewtonPol(dat):\n",
    "    # la funcion NewtonPol crea un objeto que evalua un polinomio en un cierto valor de x\n",
    "    n = len(dat)-1\n",
    "    F = [[0 for x in dat] for x in dat]  # crear tabla nula\n",
    "\n",
    "    for i, p in enumerate(dat):  # condiciones iniciales\n",
    "        F[i][0] = p[1]\n",
    "\n",
    "    for i in range(1, n+1):  # tabla de diferencias divididas\n",
    "        for j in range(1, i+1):\n",
    "            F[i][j] = (F[i][j-1]-F[i-1][j-1])/(dat[i][0]-dat[i-j][0])\n",
    "\n",
    "    def L(k, x):  # polinomio $L_k(x)=\\prod\\limits_{i \\leq k}(x-x_i)$\n",
    "        out = 1.0\n",
    "        for i, p in enumerate(dat):\n",
    "            if i <= k:\n",
    "                out *= (x-p[0])\n",
    "        return out\n",
    "\n",
    "    def P(x):  # $P(x)=f[x_0]+\\sum_{k=1}^{n}f[x_0,x_1,\\ldots,x_k]L_{k-1}(x)$\n",
    "        newt = 0.0\n",
    "        for i in range(1, n+1):\n",
    "            newt += F[i][i]*L(i-1, x)\n",
    "        return newt + F[0][0]\n",
    "\n",
    "    return F, P\n",
    "\n",
    "def totales(datos):\n",
    "    [X,Y,XX,YY,XY] = [0.0,0.0,0.0,0.0,0.0]\n",
    "    for p in datos:\n",
    "        X += p[0]\n",
    "        Y += p[1]\n",
    "        XX += pow(p[0],2.0)\n",
    "        YY += pow(p[1],2.0)\n",
    "        XY += p[0]*p[1]\n",
    "    return [X,Y,XX,YY,XY]\n",
    "\n",
    "def mincua_linear(datos,**args):\n",
    "    [X,Y,XX,YY,XY] = totales(datos)\n",
    "    m = len(datos)\n",
    "    \n",
    "    def linear(x):\n",
    "        a0 = (Y*XX-X*XY)/(m*XX-X*X)\n",
    "        a1 = (m*XY-X*Y)/(m*XX-X*X)\n",
    "        return a0+a1*x \n",
    "    return linear\n",
    "\n",
    "def R2(datos):\n",
    "    import math as mt\n",
    "    [X,Y,XX,YY,XY] = totales(datos)\n",
    "    m = len(datos)\n",
    "    return (m*XY-X*Y)/(mt.sqrt((m*XX-X*X)*(m*YY-Y*Y)))"
   ]
  },
  {
   "cell_type": "markdown",
   "metadata": {},
   "source": [
    "### Primer  Punto\n",
    "**Considere los registros del clima tomados por una estación meteorológica según se tiene en la tabla** (_Summary of Weather.csv_) **anexa a este notebook. Existen dos columnas en particular que debe correlacionar (máxima y mínima temperatura registradas diariamente)**\n",
    "\n",
    "* (**Nota**: la estructura de los datos viene dada por un archivo csv que debe importar con la libreria pandas para convertir esto en un dataframe)"
   ]
  },
  {
   "cell_type": "code",
   "execution_count": null,
   "metadata": {},
   "outputs": [],
   "source": [
    "# importe el dataset (NO MODIFIQUE ESTA CELDA)\n",
    "df = pd.read_csv('Summary of Weather.csv')\n",
    "#visualice una muestra del dataset\n",
    "df.head()"
   ]
  },
  {
   "cell_type": "code",
   "execution_count": null,
   "metadata": {},
   "outputs": [],
   "source": [
    "# (NO MODIFIQUE ESTA CELDA)\n",
    "# convierta las dos columnas que se desean analizar \n",
    "# al formato que se usa normalmente para la regresion lineal:\n",
    "# [[x0,y0], [x1, y1],  ... , [xn, yn]]\n",
    "\n",
    "%%time\n",
    "datos = []\n",
    "for i in range(len(df)):\n",
    "    datos.append([df.iloc[i]['MinTemp'], df.iloc[i]['MaxTemp']])\n",
    "datos"
   ]
  },
  {
   "cell_type": "markdown",
   "metadata": {},
   "source": [
    "* sobre la lista de datos construida, calcule una regresion lineal y guarde el modelo resultante en una variable _model_:"
   ]
  },
  {
   "cell_type": "code",
   "execution_count": null,
   "metadata": {},
   "outputs": [],
   "source": [
    "model = "
   ]
  },
  {
   "cell_type": "markdown",
   "metadata": {},
   "source": [
    "* calcule el coeficiente de correlacion $R^2$ del modelo anterior:"
   ]
  },
  {
   "cell_type": "code",
   "execution_count": null,
   "metadata": {},
   "outputs": [],
   "source": [
    "r2 = "
   ]
  },
  {
   "cell_type": "markdown",
   "metadata": {},
   "source": [
    "* Grafique el modelo lineal obtenido comparandolo con un plt.plot de todos los datos:"
   ]
  },
  {
   "cell_type": "markdown",
   "metadata": {},
   "source": [
    "### Segundo  Punto\n",
    "* Construya la siguiente lista de datos: \n",
    "$\n",
    "\\begin{equation}\n",
    "    [[-\\pi, \\sin{(-\\pi)}],[0, \\sin{(0)}],\n",
    "    [\\pi/6, \\sin{(\\pi/6)}],[\\pi, \\sin{\\pi}]]\n",
    "\\end{equation}\n",
    "$"
   ]
  },
  {
   "cell_type": "code",
   "execution_count": null,
   "metadata": {},
   "outputs": [],
   "source": [
    "datos = "
   ]
  },
  {
   "cell_type": "markdown",
   "metadata": {},
   "source": [
    "* construya el polinomio de interpolacion de Lagrange correspondiente:"
   ]
  },
  {
   "cell_type": "code",
   "execution_count": null,
   "metadata": {},
   "outputs": [],
   "source": [
    "LagPol = "
   ]
  },
  {
   "cell_type": "markdown",
   "metadata": {},
   "source": [
    "* construya el polinomio de Newton correspondiente y su respectiva tabla de diferencias divididas:"
   ]
  },
  {
   "cell_type": "code",
   "execution_count": null,
   "metadata": {},
   "outputs": [],
   "source": [
    "Table, NewPol = "
   ]
  },
  {
   "cell_type": "markdown",
   "metadata": {},
   "source": [
    "* realice la grafica de la funcion $f(x) = \\sin{(x)}$ en el intervalo $[-2 \\pi, 2 \\pi]$ junto con las graficas de los polinomios de Newton y Lagrange obtenidos previamente. Compare los resultados y concluya si los polinomios permiten extrapolar correctamente los datos  y la tendencia que describen"
   ]
  },
  {
   "cell_type": "code",
   "execution_count": null,
   "metadata": {},
   "outputs": [],
   "source": []
  }
 ],
 "metadata": {
  "kernelspec": {
   "display_name": "Python 3",
   "language": "python",
   "name": "python3"
  },
  "language_info": {
   "codemirror_mode": {
    "name": "ipython",
    "version": 3
   },
   "file_extension": ".py",
   "mimetype": "text/x-python",
   "name": "python",
   "nbconvert_exporter": "python",
   "pygments_lexer": "ipython3",
   "version": "3.6.6"
  }
 },
 "nbformat": 4,
 "nbformat_minor": 2
}
